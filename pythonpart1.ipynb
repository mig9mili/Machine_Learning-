{
 "cells": [
  {
   "cell_type": "code",
   "execution_count": 1,
   "id": "8c903faa",
   "metadata": {},
   "outputs": [],
   "source": [
    "import pandas"
   ]
  },
  {
   "cell_type": "code",
   "execution_count": 2,
   "id": "72d61e2a",
   "metadata": {},
   "outputs": [
    {
     "data": {
      "text/plain": [
       "1"
      ]
     },
     "execution_count": 2,
     "metadata": {},
     "output_type": "execute_result"
    }
   ],
   "source": [
    "1"
   ]
  },
  {
   "cell_type": "code",
   "execution_count": 3,
   "id": "2f5c4e2f",
   "metadata": {},
   "outputs": [
    {
     "data": {
      "text/plain": [
       "1.0"
      ]
     },
     "execution_count": 3,
     "metadata": {},
     "output_type": "execute_result"
    }
   ],
   "source": [
    "1.0"
   ]
  },
  {
   "cell_type": "code",
   "execution_count": 4,
   "id": "077d4de1",
   "metadata": {},
   "outputs": [
    {
     "data": {
      "text/plain": [
       "int"
      ]
     },
     "execution_count": 4,
     "metadata": {},
     "output_type": "execute_result"
    }
   ],
   "source": [
    "type(1)"
   ]
  },
  {
   "cell_type": "code",
   "execution_count": 6,
   "id": "8a1cafd4",
   "metadata": {},
   "outputs": [
    {
     "data": {
      "text/plain": [
       "float"
      ]
     },
     "execution_count": 6,
     "metadata": {},
     "output_type": "execute_result"
    }
   ],
   "source": [
    "type(839.9)"
   ]
  },
  {
   "cell_type": "code",
   "execution_count": 7,
   "id": "becf0285",
   "metadata": {},
   "outputs": [
    {
     "data": {
      "text/plain": [
       "3"
      ]
     },
     "execution_count": 7,
     "metadata": {},
     "output_type": "execute_result"
    }
   ],
   "source": [
    "1*3"
   ]
  },
  {
   "cell_type": "code",
   "execution_count": 8,
   "id": "5b94ae33",
   "metadata": {},
   "outputs": [
    {
     "data": {
      "text/plain": [
       "0.5"
      ]
     },
     "execution_count": 8,
     "metadata": {},
     "output_type": "execute_result"
    }
   ],
   "source": [
    "1/2"
   ]
  },
  {
   "cell_type": "code",
   "execution_count": 9,
   "id": "3383356f",
   "metadata": {},
   "outputs": [
    {
     "data": {
      "text/plain": [
       "8"
      ]
     },
     "execution_count": 9,
     "metadata": {},
     "output_type": "execute_result"
    }
   ],
   "source": [
    "2**3"
   ]
  },
  {
   "cell_type": "code",
   "execution_count": 10,
   "id": "08979bfc",
   "metadata": {},
   "outputs": [
    {
     "data": {
      "text/plain": [
       "625"
      ]
     },
     "execution_count": 10,
     "metadata": {},
     "output_type": "execute_result"
    }
   ],
   "source": [
    "5**4"
   ]
  },
  {
   "cell_type": "code",
   "execution_count": 11,
   "id": "6a438151",
   "metadata": {},
   "outputs": [
    {
     "data": {
      "text/plain": [
       "1"
      ]
     },
     "execution_count": 11,
     "metadata": {},
     "output_type": "execute_result"
    }
   ],
   "source": [
    "5%2"
   ]
  },
  {
   "cell_type": "code",
   "execution_count": 13,
   "id": "39da639d",
   "metadata": {},
   "outputs": [
    {
     "name": "stdout",
     "output_type": "stream",
     "text": [
      "my name is yashas,my rollno is 123\n"
     ]
    }
   ],
   "source": [
    "print(\"my name is {},my rollno is {}\".format(\"yashas\",\"123\"))"
   ]
  },
  {
   "cell_type": "code",
   "execution_count": 14,
   "id": "a1372950",
   "metadata": {},
   "outputs": [
    {
     "name": "stdout",
     "output_type": "stream",
     "text": [
      "first:xxx secound :YYY\n"
     ]
    }
   ],
   "source": [
    "print(\"first:{x} secound :{y}\".format(x=\"xxx\",y=\"YYY\"))"
   ]
  },
  {
   "cell_type": "code",
   "execution_count": 15,
   "id": "d8a8dafa",
   "metadata": {},
   "outputs": [
    {
     "data": {
      "text/plain": [
       "[1, 2, 3]"
      ]
     },
     "execution_count": 15,
     "metadata": {},
     "output_type": "execute_result"
    }
   ],
   "source": [
    "[1,2,3]"
   ]
  },
  {
   "cell_type": "code",
   "execution_count": 16,
   "id": "3497258f",
   "metadata": {},
   "outputs": [
    {
     "data": {
      "text/plain": [
       "['a', 'b']"
      ]
     },
     "execution_count": 16,
     "metadata": {},
     "output_type": "execute_result"
    }
   ],
   "source": [
    "['a','b']"
   ]
  },
  {
   "cell_type": "code",
   "execution_count": 17,
   "id": "8e552072",
   "metadata": {},
   "outputs": [],
   "source": [
    "mylist=['a','b','c']"
   ]
  },
  {
   "cell_type": "code",
   "execution_count": 18,
   "id": "9a73498b",
   "metadata": {},
   "outputs": [
    {
     "data": {
      "text/plain": [
       "'a'"
      ]
     },
     "execution_count": 18,
     "metadata": {},
     "output_type": "execute_result"
    }
   ],
   "source": [
    "mylist[0]"
   ]
  },
  {
   "cell_type": "code",
   "execution_count": 19,
   "id": "578ba9fc",
   "metadata": {},
   "outputs": [
    {
     "data": {
      "text/plain": [
       "'c'"
      ]
     },
     "execution_count": 19,
     "metadata": {},
     "output_type": "execute_result"
    }
   ],
   "source": [
    "mylist[-1]"
   ]
  },
  {
   "cell_type": "code",
   "execution_count": 20,
   "id": "1f68c350",
   "metadata": {},
   "outputs": [],
   "source": [
    "mylist[0]='new'"
   ]
  },
  {
   "cell_type": "code",
   "execution_count": 21,
   "id": "3ce8ced0",
   "metadata": {},
   "outputs": [
    {
     "data": {
      "text/plain": [
       "['new', 'b', 'c']"
      ]
     },
     "execution_count": 21,
     "metadata": {},
     "output_type": "execute_result"
    }
   ],
   "source": [
    "mylist"
   ]
  },
  {
   "cell_type": "code",
   "execution_count": 22,
   "id": "2057caa2",
   "metadata": {},
   "outputs": [],
   "source": [
    "mylist.append(\"h\")"
   ]
  },
  {
   "cell_type": "code",
   "execution_count": 23,
   "id": "1b8f1e13",
   "metadata": {},
   "outputs": [
    {
     "data": {
      "text/plain": [
       "['new', 'b', 'c', 'h']"
      ]
     },
     "execution_count": 23,
     "metadata": {},
     "output_type": "execute_result"
    }
   ],
   "source": [
    "mylist"
   ]
  },
  {
   "cell_type": "code",
   "execution_count": 24,
   "id": "1f2430c5",
   "metadata": {},
   "outputs": [],
   "source": [
    "mylist=[1,2,[2333,5677]]"
   ]
  },
  {
   "cell_type": "code",
   "execution_count": 25,
   "id": "b2a44357",
   "metadata": {},
   "outputs": [
    {
     "data": {
      "text/plain": [
       "[1, 2, [2333, 5677]]"
      ]
     },
     "execution_count": 25,
     "metadata": {},
     "output_type": "execute_result"
    }
   ],
   "source": [
    "mylist"
   ]
  },
  {
   "cell_type": "code",
   "execution_count": 26,
   "id": "4c859ebe",
   "metadata": {},
   "outputs": [
    {
     "data": {
      "text/plain": [
       "2333"
      ]
     },
     "execution_count": 26,
     "metadata": {},
     "output_type": "execute_result"
    }
   ],
   "source": [
    "mylist[2][0]"
   ]
  },
  {
   "cell_type": "code",
   "execution_count": 32,
   "id": "2085d24f",
   "metadata": {},
   "outputs": [],
   "source": [
    "d={'key1':'value',\"key2\":'value2'}"
   ]
  },
  {
   "cell_type": "code",
   "execution_count": 33,
   "id": "1c11b8f8",
   "metadata": {},
   "outputs": [
    {
     "data": {
      "text/plain": [
       "'value2'"
      ]
     },
     "execution_count": 33,
     "metadata": {},
     "output_type": "execute_result"
    }
   ],
   "source": [
    "d['key2']"
   ]
  },
  {
   "cell_type": "code",
   "execution_count": 34,
   "id": "45aa6509",
   "metadata": {},
   "outputs": [
    {
     "name": "stdout",
     "output_type": "stream",
     "text": [
      "{'key1': 'value', 'key2': 'value2'}\n"
     ]
    }
   ],
   "source": [
    "print(d)"
   ]
  },
  {
   "cell_type": "code",
   "execution_count": 35,
   "id": "8a3a2a98",
   "metadata": {},
   "outputs": [
    {
     "data": {
      "text/plain": [
       "True"
      ]
     },
     "execution_count": 35,
     "metadata": {},
     "output_type": "execute_result"
    }
   ],
   "source": [
    "True"
   ]
  },
  {
   "cell_type": "code",
   "execution_count": 37,
   "id": "7577db6b",
   "metadata": {},
   "outputs": [
    {
     "data": {
      "text/plain": [
       "False"
      ]
     },
     "execution_count": 37,
     "metadata": {},
     "output_type": "execute_result"
    }
   ],
   "source": [
    "False"
   ]
  },
  {
   "cell_type": "code",
   "execution_count": 38,
   "id": "ca555179",
   "metadata": {},
   "outputs": [
    {
     "data": {
      "text/plain": [
       "{1, 3, 4}"
      ]
     },
     "execution_count": 38,
     "metadata": {},
     "output_type": "execute_result"
    }
   ],
   "source": [
    "{1,3,4}"
   ]
  },
  {
   "cell_type": "code",
   "execution_count": 39,
   "id": "3feb0991",
   "metadata": {},
   "outputs": [
    {
     "data": {
      "text/plain": [
       "{1, 2, 3}"
      ]
     },
     "execution_count": 39,
     "metadata": {},
     "output_type": "execute_result"
    }
   ],
   "source": [
    "{1,1,1,1,2,2,2,2,3,3,3}"
   ]
  },
  {
   "cell_type": "code",
   "execution_count": 40,
   "id": "6e5277e5",
   "metadata": {},
   "outputs": [
    {
     "data": {
      "text/plain": [
       "False"
      ]
     },
     "execution_count": 40,
     "metadata": {},
     "output_type": "execute_result"
    }
   ],
   "source": [
    "1==2"
   ]
  },
  {
   "cell_type": "code",
   "execution_count": 41,
   "id": "4badecae",
   "metadata": {},
   "outputs": [
    {
     "data": {
      "text/plain": [
       "False"
      ]
     },
     "execution_count": 41,
     "metadata": {},
     "output_type": "execute_result"
    }
   ],
   "source": [
    "1>2"
   ]
  },
  {
   "cell_type": "code",
   "execution_count": 42,
   "id": "73484bf4",
   "metadata": {},
   "outputs": [
    {
     "data": {
      "text/plain": [
       "True"
      ]
     },
     "execution_count": 42,
     "metadata": {},
     "output_type": "execute_result"
    }
   ],
   "source": [
    "2>1"
   ]
  },
  {
   "cell_type": "code",
   "execution_count": 43,
   "id": "5da6a388",
   "metadata": {},
   "outputs": [
    {
     "data": {
      "text/plain": [
       "False"
      ]
     },
     "execution_count": 43,
     "metadata": {},
     "output_type": "execute_result"
    }
   ],
   "source": [
    "1>=4"
   ]
  },
  {
   "cell_type": "code",
   "execution_count": 44,
   "id": "62749868",
   "metadata": {},
   "outputs": [
    {
     "data": {
      "text/plain": [
       "True"
      ]
     },
     "execution_count": 44,
     "metadata": {},
     "output_type": "execute_result"
    }
   ],
   "source": [
    "3<=34"
   ]
  },
  {
   "cell_type": "code",
   "execution_count": 45,
   "id": "ce7a253e",
   "metadata": {},
   "outputs": [
    {
     "data": {
      "text/plain": [
       "True"
      ]
     },
     "execution_count": 45,
     "metadata": {},
     "output_type": "execute_result"
    }
   ],
   "source": [
    "'a'=='a'"
   ]
  },
  {
   "cell_type": "code",
   "execution_count": 46,
   "id": "5d06651e",
   "metadata": {},
   "outputs": [
    {
     "data": {
      "text/plain": [
       "False"
      ]
     },
     "execution_count": 46,
     "metadata": {},
     "output_type": "execute_result"
    }
   ],
   "source": [
    "\"A\"==\"a\""
   ]
  },
  {
   "cell_type": "code",
   "execution_count": 47,
   "id": "efda549a",
   "metadata": {},
   "outputs": [
    {
     "data": {
      "text/plain": [
       "True"
      ]
     },
     "execution_count": 47,
     "metadata": {},
     "output_type": "execute_result"
    }
   ],
   "source": [
    "1!=2"
   ]
  },
  {
   "cell_type": "code",
   "execution_count": 51,
   "id": "214c389e",
   "metadata": {},
   "outputs": [
    {
     "data": {
      "text/plain": [
       "False"
      ]
     },
     "execution_count": 51,
     "metadata": {},
     "output_type": "execute_result"
    }
   ],
   "source": [
    "(1==1)and('a'=='a')and(3==4)"
   ]
  },
  {
   "cell_type": "code",
   "execution_count": 52,
   "id": "c9c4d0e7",
   "metadata": {},
   "outputs": [
    {
     "data": {
      "text/plain": [
       "True"
      ]
     },
     "execution_count": 52,
     "metadata": {},
     "output_type": "execute_result"
    }
   ],
   "source": [
    "(2==34)or(\"A\"==\"A\")"
   ]
  },
  {
   "cell_type": "code",
   "execution_count": 1,
   "id": "f7f5a62e",
   "metadata": {},
   "outputs": [
    {
     "name": "stdout",
     "output_type": "stream",
     "text": [
      "UTROI\n"
     ]
    }
   ],
   "source": [
    "if 1==2:\n",
    "    print(\"kd\")\n",
    "elif 3==3:\n",
    "    print(\"UTROI\")\n",
    "else :\n",
    "    print(\"kfkm\")"
   ]
  },
  {
   "cell_type": "code",
   "execution_count": 2,
   "id": "fd805f65",
   "metadata": {},
   "outputs": [
    {
     "name": "stdout",
     "output_type": "stream",
     "text": [
      "i is 1\n",
      "i is 2\n",
      "i is 3\n",
      "i is 4\n"
     ]
    }
   ],
   "source": [
    "i=1\n",
    "while i<5:\n",
    "    print(\"i is {}\".format(i))\n",
    "    i=i+1"
   ]
  },
  {
   "cell_type": "code",
   "execution_count": 3,
   "id": "78d3e4c5",
   "metadata": {},
   "outputs": [
    {
     "data": {
      "text/plain": [
       "[0, 1, 2, 3, 4]"
      ]
     },
     "execution_count": 3,
     "metadata": {},
     "output_type": "execute_result"
    }
   ],
   "source": [
    "list(range(5))"
   ]
  },
  {
   "cell_type": "code",
   "execution_count": 5,
   "id": "52aeae8a",
   "metadata": {},
   "outputs": [
    {
     "data": {
      "text/plain": [
       "[2, 3, 4, 5]"
      ]
     },
     "execution_count": 5,
     "metadata": {},
     "output_type": "execute_result"
    }
   ],
   "source": [
    "list(range(2,6))"
   ]
  },
  {
   "cell_type": "code",
   "execution_count": 11,
   "id": "9e4629cd",
   "metadata": {},
   "outputs": [
    {
     "name": "stdout",
     "output_type": "stream",
     "text": [
      "hi\n",
      "hi\n",
      "hi\n",
      "hi\n",
      "hi\n",
      "hi\n",
      "hi\n",
      "hi\n",
      "hi\n"
     ]
    }
   ],
   "source": [
    "for i in range(9):\n",
    "    print(\"hi\")"
   ]
  },
  {
   "cell_type": "code",
   "execution_count": 14,
   "id": "f5866ec0",
   "metadata": {},
   "outputs": [],
   "source": [
    "#list comprhinsion"
   ]
  },
  {
   "cell_type": "code",
   "execution_count": 15,
   "id": "5e6547bb",
   "metadata": {},
   "outputs": [],
   "source": [
    "x=[1,2,3,4,5]"
   ]
  },
  {
   "cell_type": "code",
   "execution_count": 16,
   "id": "d02dd79c",
   "metadata": {},
   "outputs": [
    {
     "data": {
      "text/plain": [
       "[1, 8, 27, 64, 125]"
      ]
     },
     "execution_count": 16,
     "metadata": {},
     "output_type": "execute_result"
    }
   ],
   "source": [
    "[num**3 for num in x ]"
   ]
  },
  {
   "cell_type": "code",
   "execution_count": 6,
   "id": "2a085b6a",
   "metadata": {},
   "outputs": [],
   "source": [
    "def my_funtion(name):\n",
    "    print('hello'+ name)"
   ]
  },
  {
   "cell_type": "code",
   "execution_count": 8,
   "id": "76996738",
   "metadata": {},
   "outputs": [
    {
     "name": "stdout",
     "output_type": "stream",
     "text": [
      "hello yashas\n"
     ]
    }
   ],
   "source": [
    "my_funtion(\" yashas\")"
   ]
  },
  {
   "cell_type": "code",
   "execution_count": 9,
   "id": "b4c57e88",
   "metadata": {},
   "outputs": [],
   "source": [
    "def square(x):\n",
    "    return x**2"
   ]
  },
  {
   "cell_type": "code",
   "execution_count": 10,
   "id": "2cf5a406",
   "metadata": {},
   "outputs": [],
   "source": [
    "result=square(2)"
   ]
  },
  {
   "cell_type": "code",
   "execution_count": 11,
   "id": "29d1886f",
   "metadata": {},
   "outputs": [
    {
     "data": {
      "text/plain": [
       "4"
      ]
     },
     "execution_count": 11,
     "metadata": {},
     "output_type": "execute_result"
    }
   ],
   "source": [
    "result"
   ]
  },
  {
   "cell_type": "code",
   "execution_count": 12,
   "id": "fa06c574",
   "metadata": {},
   "outputs": [
    {
     "data": {
      "text/plain": [
       "int"
      ]
     },
     "execution_count": 12,
     "metadata": {},
     "output_type": "execute_result"
    }
   ],
   "source": [
    "type(result)"
   ]
  },
  {
   "cell_type": "code",
   "execution_count": 15,
   "id": "fec3d00d",
   "metadata": {},
   "outputs": [
    {
     "data": {
      "text/plain": [
       "<function __main__.<lambda>(var)>"
      ]
     },
     "execution_count": 15,
     "metadata": {},
     "output_type": "execute_result"
    }
   ],
   "source": [
    "lambda var:var*2"
   ]
  },
  {
   "cell_type": "code",
   "execution_count": 17,
   "id": "20f7a664",
   "metadata": {},
   "outputs": [],
   "source": [
    "st=\"Hello my name is Yashas\""
   ]
  },
  {
   "cell_type": "code",
   "execution_count": 18,
   "id": "9f312ee7",
   "metadata": {},
   "outputs": [
    {
     "data": {
      "text/plain": [
       "'hello my name is yashas'"
      ]
     },
     "execution_count": 18,
     "metadata": {},
     "output_type": "execute_result"
    }
   ],
   "source": [
    "st.lower()"
   ]
  },
  {
   "cell_type": "code",
   "execution_count": 20,
   "id": "4b580334",
   "metadata": {},
   "outputs": [
    {
     "data": {
      "text/plain": [
       "['Hello', 'my', 'name', 'is', 'Yashas']"
      ]
     },
     "execution_count": 20,
     "metadata": {},
     "output_type": "execute_result"
    }
   ],
   "source": [
    "st.split()"
   ]
  },
  {
   "cell_type": "code",
   "execution_count": 21,
   "id": "82a9022e",
   "metadata": {},
   "outputs": [],
   "source": [
    "tweet=\"hello # sports\""
   ]
  },
  {
   "cell_type": "code",
   "execution_count": 22,
   "id": "f605b8c1",
   "metadata": {},
   "outputs": [
    {
     "data": {
      "text/plain": [
       "['hello ', ' sports']"
      ]
     },
     "execution_count": 22,
     "metadata": {},
     "output_type": "execute_result"
    }
   ],
   "source": [
    "tweet.split('#')"
   ]
  },
  {
   "cell_type": "code",
   "execution_count": 23,
   "id": "6aee3bc9",
   "metadata": {},
   "outputs": [
    {
     "data": {
      "text/plain": [
       "['hello # ', 'port', '']"
      ]
     },
     "execution_count": 23,
     "metadata": {},
     "output_type": "execute_result"
    }
   ],
   "source": [
    "tweet.split(\"s\")"
   ]
  },
  {
   "cell_type": "code",
   "execution_count": 24,
   "id": "e545b0bb",
   "metadata": {},
   "outputs": [
    {
     "data": {
      "text/plain": [
       "' sports'"
      ]
     },
     "execution_count": 24,
     "metadata": {},
     "output_type": "execute_result"
    }
   ],
   "source": [
    "tweet.split('#')[-1]"
   ]
  },
  {
   "cell_type": "code",
   "execution_count": 25,
   "id": "57815877",
   "metadata": {},
   "outputs": [],
   "source": [
    "d={'k1':'v1','k2':'v2'}"
   ]
  },
  {
   "cell_type": "code",
   "execution_count": 26,
   "id": "fce844fe",
   "metadata": {},
   "outputs": [
    {
     "data": {
      "text/plain": [
       "dict_keys(['k1', 'k2'])"
      ]
     },
     "execution_count": 26,
     "metadata": {},
     "output_type": "execute_result"
    }
   ],
   "source": [
    "d.keys()"
   ]
  },
  {
   "cell_type": "code",
   "execution_count": 27,
   "id": "17429acf",
   "metadata": {},
   "outputs": [
    {
     "data": {
      "text/plain": [
       "dict_items([('k1', 'v1'), ('k2', 'v2')])"
      ]
     },
     "execution_count": 27,
     "metadata": {},
     "output_type": "execute_result"
    }
   ],
   "source": [
    "d.items()"
   ]
  },
  {
   "cell_type": "code",
   "execution_count": 28,
   "id": "9bc23328",
   "metadata": {},
   "outputs": [],
   "source": [
    "mylist=[1,2,3,4]"
   ]
  },
  {
   "cell_type": "code",
   "execution_count": 29,
   "id": "a900d395",
   "metadata": {},
   "outputs": [],
   "source": [
    "last=mylist.pop()"
   ]
  },
  {
   "cell_type": "code",
   "execution_count": 30,
   "id": "b56cd5fe",
   "metadata": {},
   "outputs": [
    {
     "data": {
      "text/plain": [
       "[1, 2, 3]"
      ]
     },
     "execution_count": 30,
     "metadata": {},
     "output_type": "execute_result"
    }
   ],
   "source": [
    "mylist"
   ]
  },
  {
   "cell_type": "code",
   "execution_count": 31,
   "id": "591d85b6",
   "metadata": {},
   "outputs": [],
   "source": [
    "first=mylist.pop(0)"
   ]
  },
  {
   "cell_type": "code",
   "execution_count": 33,
   "id": "6864df7f",
   "metadata": {},
   "outputs": [
    {
     "data": {
      "text/plain": [
       "[2, 3]"
      ]
     },
     "execution_count": 33,
     "metadata": {},
     "output_type": "execute_result"
    }
   ],
   "source": [
    "mylist"
   ]
  },
  {
   "cell_type": "code",
   "execution_count": 34,
   "id": "4d99021f",
   "metadata": {},
   "outputs": [
    {
     "data": {
      "text/plain": [
       "1"
      ]
     },
     "execution_count": 34,
     "metadata": {},
     "output_type": "execute_result"
    }
   ],
   "source": [
    "first"
   ]
  },
  {
   "cell_type": "code",
   "execution_count": 35,
   "id": "1ed15f53",
   "metadata": {},
   "outputs": [
    {
     "data": {
      "text/plain": [
       "True"
      ]
     },
     "execution_count": 35,
     "metadata": {},
     "output_type": "execute_result"
    }
   ],
   "source": [
    "2 in mylist"
   ]
  },
  {
   "cell_type": "code",
   "execution_count": 36,
   "id": "4a1f1536",
   "metadata": {},
   "outputs": [
    {
     "data": {
      "text/plain": [
       "False"
      ]
     },
     "execution_count": 36,
     "metadata": {},
     "output_type": "execute_result"
    }
   ],
   "source": [
    "1 in mylist"
   ]
  },
  {
   "cell_type": "code",
   "execution_count": null,
   "id": "0871a008",
   "metadata": {},
   "outputs": [],
   "source": []
  }
 ],
 "metadata": {
  "kernelspec": {
   "display_name": "Python 3 (ipykernel)",
   "language": "python",
   "name": "python3"
  },
  "language_info": {
   "codemirror_mode": {
    "name": "ipython",
    "version": 3
   },
   "file_extension": ".py",
   "mimetype": "text/x-python",
   "name": "python",
   "nbconvert_exporter": "python",
   "pygments_lexer": "ipython3",
   "version": "3.10.4"
  }
 },
 "nbformat": 4,
 "nbformat_minor": 5
}
